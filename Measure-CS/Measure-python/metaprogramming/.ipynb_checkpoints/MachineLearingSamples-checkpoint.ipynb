{
 "metadata": {
  "name": "",
  "signature": "sha256:0f9a20175ab86574b5f58cb1f7ccce7c997bb2f1b1f16c95292b947b5d1a1206"
 },
 "nbformat": 3,
 "nbformat_minor": 0,
 "worksheets": []
}