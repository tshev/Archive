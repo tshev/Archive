{
 "metadata": {
  "name": "ElectionData"
 }, 
 "nbformat": 2, 
 "worksheets": [
  {
   "cells": [
    {
     "cell_type": "code", 
     "collapsed": true, 
     "input": [
      "from pandas import *", 
      "import matplotlib as mpl", 
      "mpl.rc('figure', figsize=(12, 6))", 
      "set_printoptions(max_columns=18)", 
      "months = {'JAN' : 1, 'FEB' : 2, 'MAR' : 3, 'APR' : 4, 'MAY' : 5, 'JUN' : 6,", 
      "          'JUL' : 7, 'AUG' : 8, 'SEP' : 9, 'OCT': 10, 'NOV': 11, 'DEC' : 12}", 
      "of_interest = ['Obama, Barack', 'Romney, Mitt', 'Santorum, Rick', ", 
      "               'Paul, Ron', 'Gingrich, Newt']", 
      "parties = {", 
      "  'Bachmann, Michelle': 'Republican',", 
      "  'Romney, Mitt': 'Republican',", 
      "  'Obama, Barack': 'Democrat',", 
      "  \"Roemer, Charles E. 'Buddy' III\": 'Reform',", 
      "  'Pawlenty, Timothy': 'Republican',", 
      "  'Johnson, Gary Earl': 'Libertarian',", 
      "  'Paul, Ron': 'Republican',", 
      "  'Santorum, Rick': 'Republican',", 
      "  'Cain, Herman': 'Republican',", 
      "  'Gingrich, Newt': 'Republican',", 
      "  'McCotter, Thaddeus G': 'Republican',", 
      "  'Huntsman, Jon': 'Republican',", 
      "  'Perry, Rick': 'Republican'           ", 
      " }"
     ], 
     "language": "python", 
     "outputs": [], 
     "prompt_number": 1
    }, 
    {
     "cell_type": "code", 
     "collapsed": true, 
     "input": [
      "fec = read_csv('P00000001-ALL.txt')"
     ], 
     "language": "python", 
     "outputs": [], 
     "prompt_number": 2
    }, 
    {
     "cell_type": "code", 
     "collapsed": false, 
     "input": [
      "fec"
     ], 
     "language": "python", 
     "outputs": [
      {
       "output_type": "pyout", 
       "prompt_number": 3, 
       "text": [
        "&lt;class &apos;pandas.core.frame.DataFrame&apos;&gt;", 
        "Int64Index: 536041 entries, 0 to 536040", 
        "Data columns:", 
        "cmte_id              536041  non-null values", 
        "cand_id              536041  non-null values", 
        "cand_nm              536041  non-null values", 
        "contbr_nm            536041  non-null values", 
        "contbr_city          536026  non-null values", 
        "contbr_st            536040  non-null values", 
        "contbr_zip           535973  non-null values", 
        "contbr_employer      531417  non-null values", 
        "contbr_occupation    531448  non-null values", 
        "contb_receipt_amt    536041  non-null values", 
        "contb_receipt_dt     536041  non-null values", 
        "receipt_desc         8479  non-null values", 
        "memo_cd              49718  non-null values", 
        "memo_text            52740  non-null values", 
        "form_tp              536041  non-null values", 
        "file_num             536041  non-null values", 
        "dtypes: float64(1), int64(1), object(14)"
       ]
      }
     ], 
     "prompt_number": 3
    }, 
    {
     "cell_type": "code", 
     "collapsed": true, 
     "input": [], 
     "language": "python", 
     "outputs": [], 
     "prompt_number": "&nbsp;"
    }
   ]
  }
 ]
}