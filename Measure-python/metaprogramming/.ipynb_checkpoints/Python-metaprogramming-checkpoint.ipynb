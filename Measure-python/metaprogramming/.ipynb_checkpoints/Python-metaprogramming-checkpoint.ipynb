{
 "metadata": {
  "name": "",
  "signature": "sha256:123c25054b2d503d2bb21494d04459b65f3d2c2a9cdce2a674f985d27ea90b24"
 },
 "nbformat": 3,
 "nbformat_minor": 0,
 "worksheets": [
  {
   "cells": [
    {
     "cell_type": "heading",
     "level": 1,
     "metadata": {},
     "source": [
      "Python3"
     ]
    },
    {
     "cell_type": "markdown",
     "metadata": {},
     "source": [
      "Code that manipulates code"
     ]
    },
    {
     "cell_type": "heading",
     "level": 2,
     "metadata": {},
     "source": [
      "Arguments in Python"
     ]
    },
    {
     "cell_type": "code",
     "collapsed": false,
     "input": [
      "\n",
      "def func(x, id_flag=False, helper=None):\n",
      "    if helper is None:\n",
      "        # helper is not specified\n",
      "        # implementation\n",
      "        helper = sum\n",
      "    # other code\n",
      "\n",
      "def func_2(*args, **kwargs):\n",
      "    # func_2 containts position arguments -*args, \n",
      "    # keyword argumts - **kwargs\n",
      "    for i in args:\n",
      "        # some interesting work\n",
      "        i = 4\n",
      "    for key, value in kwargs.items():\n",
      "        print(key, \" => \", value)\n",
      "\n",
      "# Calling block\n",
      "func_2(1, 2, 3, decor='*')\n",
      "func_2(decor='+', left='(', right=')')\n",
      "\n",
      "    "
     ],
     "language": "python",
     "metadata": {},
     "outputs": [
      {
       "output_type": "stream",
       "stream": "stdout",
       "text": [
        "decor  =>  *\n",
        "right  =>  )\n",
        "left  =>  (\n",
        "decor  =>  +\n"
       ]
      }
     ],
     "prompt_number": 59
    },
    {
     "cell_type": "code",
     "collapsed": false,
     "input": [
      "import functools\n",
      "def debug(func=None, *, decor='*'):\n",
      "    if func is None:\n",
      "        return functools.partial(debug, decor=decor)\n",
      "    functools.wraps(func)\n",
      "    def wrapper(*args, **kwargs):\n",
      "        if '__qualname__'  in func.__dict__.keys():\n",
      "            print(decor, \" Called \",func.__qualname__)\n",
      "        return func(*args, **kwargs)\n",
      "    return wrapper\n",
      "def debugattrubutes(cls):\n",
      "    for key, value in vars(cls).items():\n",
      "        if callable(value):\n",
      "            setattr(cls, key, debug(value))\n",
      "        else:\n",
      "            print(key, '=>' ,value)\n",
      "       \n",
      "    return cls\n"
     ],
     "language": "python",
     "metadata": {},
     "outputs": [],
     "prompt_number": 82
    },
    {
     "cell_type": "heading",
     "level": 2,
     "metadata": {},
     "source": [
      "Classes"
     ]
    },
    {
     "cell_type": "code",
     "collapsed": false,
     "input": [
      "@debugattrubutes\n",
      "class Span:\n",
      "    \"\"\"\n",
      "    Very small and not so stupid class\n",
      "    \"\"\"\n",
      "    dx = 10\n",
      "    def __init__(self, dy):\n",
      "        self.dy = dy\n",
      "        dx = 32\n",
      "    def my_method(self):\n",
      "        # some job\n",
      "        dx = 10032\n",
      "    @debug(decor='-- @classmethod --')\n",
      "    @classmethod\n",
      "    def dx_change(cls, delta_x):\n",
      "        cls.dx = delta_x\n",
      "    @debug(decor='-- @classmethod --')\n",
      "    @classmethod\n",
      "    def read_class(self):\n",
      "        print(\"dx = \", self.dx)\n",
      "    @debug(decor='-- @classmethod --')\n",
      "    @classmethod\n",
      "    def instance_chnage(self, v):\n",
      "        self.dx = v\n",
      "print(Span.dx)\n",
      "span_object = Span(10)\n",
      "span_object.read_class()\n",
      "span_object.dx_change(32)\n",
      "span_object.read_class()\n",
      "span_object.instance_chnage(43)\n",
      "span_object.read_class()\n",
      "\n",
      "span_object.my_method()\n",
      "print(\"Span.dx\", Span.dx)\n",
      "Span.dx_change(10030)\n",
      "print(Span.dx)\n",
      "span_object.dx = 1003\n",
      "Span.dx = 103\n",
      "print(Span.dx)"
     ],
     "language": "python",
     "metadata": {},
     "outputs": [
      {
       "output_type": "stream",
       "stream": "stdout",
       "text": [
        "__doc__ => \n",
        "    Very small and not so stupid class\n",
        "    \n",
        "dx => 10\n",
        "__weakref__ => <attribute '__weakref__' of 'Span' objects>\n",
        "__dict__ => <attribute '__dict__' of 'Span' objects>\n",
        "__module__ => __main__\n",
        "10\n"
       ]
      },
      {
       "ename": "TypeError",
       "evalue": "'classmethod' object is not callable",
       "output_type": "pyerr",
       "traceback": [
        "\u001b[1;31m---------------------------------------------------------------------------\u001b[0m\n\u001b[1;31mTypeError\u001b[0m                                 Traceback (most recent call last)",
        "\u001b[1;32m<ipython-input-83-e9b2ff5459fc>\u001b[0m in \u001b[0;36m<module>\u001b[1;34m()\u001b[0m\n\u001b[0;32m     25\u001b[0m \u001b[0mprint\u001b[0m\u001b[1;33m(\u001b[0m\u001b[0mSpan\u001b[0m\u001b[1;33m.\u001b[0m\u001b[0mdx\u001b[0m\u001b[1;33m)\u001b[0m\u001b[1;33m\u001b[0m\u001b[0m\n\u001b[0;32m     26\u001b[0m \u001b[0mspan_object\u001b[0m \u001b[1;33m=\u001b[0m \u001b[0mSpan\u001b[0m\u001b[1;33m(\u001b[0m\u001b[1;36m10\u001b[0m\u001b[1;33m)\u001b[0m\u001b[1;33m\u001b[0m\u001b[0m\n\u001b[1;32m---> 27\u001b[1;33m \u001b[0mspan_object\u001b[0m\u001b[1;33m.\u001b[0m\u001b[0mread_class\u001b[0m\u001b[1;33m(\u001b[0m\u001b[1;33m)\u001b[0m\u001b[1;33m\u001b[0m\u001b[0m\n\u001b[0m\u001b[0;32m     28\u001b[0m \u001b[0mspan_object\u001b[0m\u001b[1;33m.\u001b[0m\u001b[0mdx_change\u001b[0m\u001b[1;33m(\u001b[0m\u001b[1;36m32\u001b[0m\u001b[1;33m)\u001b[0m\u001b[1;33m\u001b[0m\u001b[0m\n\u001b[0;32m     29\u001b[0m \u001b[0mspan_object\u001b[0m\u001b[1;33m.\u001b[0m\u001b[0mread_class\u001b[0m\u001b[1;33m(\u001b[0m\u001b[1;33m)\u001b[0m\u001b[1;33m\u001b[0m\u001b[0m\n",
        "\u001b[1;32m<ipython-input-82-b330224f73f8>\u001b[0m in \u001b[0;36mwrapper\u001b[1;34m(*args, **kwargs)\u001b[0m\n\u001b[0;32m      7\u001b[0m         \u001b[1;32mif\u001b[0m \u001b[1;34m'__qualname__'\u001b[0m  \u001b[1;32min\u001b[0m \u001b[0mfunc\u001b[0m\u001b[1;33m.\u001b[0m\u001b[0m__dict__\u001b[0m\u001b[1;33m.\u001b[0m\u001b[0mkeys\u001b[0m\u001b[1;33m(\u001b[0m\u001b[1;33m)\u001b[0m\u001b[1;33m:\u001b[0m\u001b[1;33m\u001b[0m\u001b[0m\n\u001b[0;32m      8\u001b[0m             \u001b[0mprint\u001b[0m\u001b[1;33m(\u001b[0m\u001b[0mdecor\u001b[0m\u001b[1;33m,\u001b[0m \u001b[1;34m\" Called \"\u001b[0m\u001b[1;33m,\u001b[0m\u001b[0mfunc\u001b[0m\u001b[1;33m.\u001b[0m\u001b[0m__qualname__\u001b[0m\u001b[1;33m)\u001b[0m\u001b[1;33m\u001b[0m\u001b[0m\n\u001b[1;32m----> 9\u001b[1;33m         \u001b[1;32mreturn\u001b[0m \u001b[0mfunc\u001b[0m\u001b[1;33m(\u001b[0m\u001b[1;33m*\u001b[0m\u001b[0margs\u001b[0m\u001b[1;33m,\u001b[0m \u001b[1;33m**\u001b[0m\u001b[0mkwargs\u001b[0m\u001b[1;33m)\u001b[0m\u001b[1;33m\u001b[0m\u001b[0m\n\u001b[0m\u001b[0;32m     10\u001b[0m     \u001b[1;32mreturn\u001b[0m \u001b[0mwrapper\u001b[0m\u001b[1;33m\u001b[0m\u001b[0m\n\u001b[0;32m     11\u001b[0m \u001b[1;32mdef\u001b[0m \u001b[0mdebugattrubutes\u001b[0m\u001b[1;33m(\u001b[0m\u001b[0mcls\u001b[0m\u001b[1;33m)\u001b[0m\u001b[1;33m:\u001b[0m\u001b[1;33m\u001b[0m\u001b[0m\n",
        "\u001b[1;32m<ipython-input-82-b330224f73f8>\u001b[0m in \u001b[0;36mwrapper\u001b[1;34m(*args, **kwargs)\u001b[0m\n\u001b[0;32m      7\u001b[0m         \u001b[1;32mif\u001b[0m \u001b[1;34m'__qualname__'\u001b[0m  \u001b[1;32min\u001b[0m \u001b[0mfunc\u001b[0m\u001b[1;33m.\u001b[0m\u001b[0m__dict__\u001b[0m\u001b[1;33m.\u001b[0m\u001b[0mkeys\u001b[0m\u001b[1;33m(\u001b[0m\u001b[1;33m)\u001b[0m\u001b[1;33m:\u001b[0m\u001b[1;33m\u001b[0m\u001b[0m\n\u001b[0;32m      8\u001b[0m             \u001b[0mprint\u001b[0m\u001b[1;33m(\u001b[0m\u001b[0mdecor\u001b[0m\u001b[1;33m,\u001b[0m \u001b[1;34m\" Called \"\u001b[0m\u001b[1;33m,\u001b[0m\u001b[0mfunc\u001b[0m\u001b[1;33m.\u001b[0m\u001b[0m__qualname__\u001b[0m\u001b[1;33m)\u001b[0m\u001b[1;33m\u001b[0m\u001b[0m\n\u001b[1;32m----> 9\u001b[1;33m         \u001b[1;32mreturn\u001b[0m \u001b[0mfunc\u001b[0m\u001b[1;33m(\u001b[0m\u001b[1;33m*\u001b[0m\u001b[0margs\u001b[0m\u001b[1;33m,\u001b[0m \u001b[1;33m**\u001b[0m\u001b[0mkwargs\u001b[0m\u001b[1;33m)\u001b[0m\u001b[1;33m\u001b[0m\u001b[0m\n\u001b[0m\u001b[0;32m     10\u001b[0m     \u001b[1;32mreturn\u001b[0m \u001b[0mwrapper\u001b[0m\u001b[1;33m\u001b[0m\u001b[0m\n\u001b[0;32m     11\u001b[0m \u001b[1;32mdef\u001b[0m \u001b[0mdebugattrubutes\u001b[0m\u001b[1;33m(\u001b[0m\u001b[0mcls\u001b[0m\u001b[1;33m)\u001b[0m\u001b[1;33m:\u001b[0m\u001b[1;33m\u001b[0m\u001b[0m\n",
        "\u001b[1;31mTypeError\u001b[0m: 'classmethod' object is not callable"
       ]
      }
     ],
     "prompt_number": 83
    },
    {
     "cell_type": "heading",
     "level": 2,
     "metadata": {},
     "source": [
      "Special methods in python"
     ]
    },
    {
     "cell_type": "code",
     "collapsed": false,
     "input": [
      "class Span:\n",
      "    pass\n",
      "dir(Span)"
     ],
     "language": "python",
     "metadata": {},
     "outputs": [
      {
       "metadata": {},
       "output_type": "pyout",
       "prompt_number": 30,
       "text": [
        "['__class__',\n",
        " '__delattr__',\n",
        " '__dict__',\n",
        " '__dir__',\n",
        " '__doc__',\n",
        " '__eq__',\n",
        " '__format__',\n",
        " '__ge__',\n",
        " '__getattribute__',\n",
        " '__gt__',\n",
        " '__hash__',\n",
        " '__init__',\n",
        " '__le__',\n",
        " '__lt__',\n",
        " '__module__',\n",
        " '__ne__',\n",
        " '__new__',\n",
        " '__reduce__',\n",
        " '__reduce_ex__',\n",
        " '__repr__',\n",
        " '__setattr__',\n",
        " '__sizeof__',\n",
        " '__str__',\n",
        " '__subclasshook__',\n",
        " '__weakref__']"
       ]
      }
     ],
     "prompt_number": 30
    },
    {
     "cell_type": "code",
     "collapsed": false,
     "input": [
      "# change attrubute access\n",
      "\n",
      "def decorator(cls):\n",
      "    my_set = cls.__getattribute__\n",
      "    def method_1(self):\n",
      "        print(\"method_1\")\n",
      "    def __new_getattribute__(self, name):\n",
      "        print(\"NewGetAttribute\")\n",
      "        return my_set(self, name)\n",
      "    cls.__getattribute__ = __new_getattribute__\n",
      "    return cls\n",
      "@decorator\n",
      "class B:\n",
      "    count = 0\n",
      "    def __init__(self, v):\n",
      "        B.my()\n",
      "        self.v = v\n",
      "    def method(self):\n",
      "        print(\"method\")\n",
      "    @classmethod\n",
      "    def my(cls):\n",
      "        cls.count += 1\n",
      "        print(\"my cls\")\n",
      "x = B(4)\n",
      "B.method(x)\n",
      "x.v = 43\n",
      "x.method()\n",
      "print(B.count)\n",
      "\n",
      "    "
     ],
     "language": "python",
     "metadata": {},
     "outputs": [
      {
       "output_type": "stream",
       "stream": "stdout",
       "text": [
        "my cls\n",
        "method\n",
        "NewGetAttribute\n",
        "method\n",
        "1\n"
       ]
      }
     ],
     "prompt_number": 69
    },
    {
     "cell_type": "code",
     "collapsed": false,
     "input": [],
     "language": "python",
     "metadata": {},
     "outputs": []
    }
   ],
   "metadata": {}
  }
 ]
}